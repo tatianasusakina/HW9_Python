{
  "nbformat": 4,
  "nbformat_minor": 0,
  "metadata": {
    "colab": {
      "provenance": [],
      "authorship_tag": "ABX9TyObCj+s55IVPutPQesJ2Udn",
      "include_colab_link": true
    },
    "kernelspec": {
      "name": "python3",
      "display_name": "Python 3"
    },
    "language_info": {
      "name": "python"
    }
  },
  "cells": [
    {
      "cell_type": "markdown",
      "metadata": {
        "id": "view-in-github",
        "colab_type": "text"
      },
      "source": [
        "<a href=\"https://colab.research.google.com/github/JoolsCohen/Basic_algorithms-PY/blob/master/task40.ipynb\" target=\"_parent\"><img src=\"https://colab.research.google.com/assets/colab-badge.svg\" alt=\"Open In Colab\"/></a>"
      ]
    },
    {
      "cell_type": "markdown",
      "source": [
        "**Задача 40:** Работать с файлом `california_housing_train.csv`, который находится в папке `sample_data`. Определить среднюю стоимость дома, где кол-во людей от 0 до 500 (population).\n"
      ],
      "metadata": {
        "id": "0uUqyiEHydFm"
      }
    },
    {
      "cell_type": "code",
      "source": [
        "import pandas as pd"
      ],
      "metadata": {
        "id": "TapRNDNGy1gf"
      },
      "execution_count": 3,
      "outputs": []
    },
    {
      "cell_type": "code",
      "source": [
        "df = pd.read_csv('sample_data/california_housing_train.csv')"
      ],
      "metadata": {
        "id": "5fEM8Hx3y4Gy"
      },
      "execution_count": 4,
      "outputs": []
    },
    {
      "cell_type": "code",
      "source": [
        "df.query('population < = 500')"
      ],
      "metadata": {
        "colab": {
          "base_uri": "https://localhost:8080/",
          "height": 467
        },
        "id": "B2--bedny622",
        "outputId": "d24c2a6a-4c14-43a4-f384-3bd7c915959b"
      },
      "execution_count": 5,
      "outputs": [
        {
          "output_type": "execute_result",
          "data": {
            "text/plain": [
              "       longitude  latitude  housing_median_age  total_rooms  total_bedrooms  \\\n",
              "2        -114.56     33.69                17.0        720.0           174.0   \n",
              "7        -114.59     34.83                41.0        812.0           168.0   \n",
              "17       -114.65     32.79                21.0         44.0            33.0   \n",
              "19       -114.67     33.92                17.0         97.0            24.0   \n",
              "21       -114.73     33.43                24.0        796.0           243.0   \n",
              "...          ...       ...                 ...          ...             ...   \n",
              "16944    -124.14     40.67                23.0        580.0           117.0   \n",
              "16951    -124.15     40.81                50.0        340.0            74.0   \n",
              "16969    -124.17     40.80                52.0        661.0           316.0   \n",
              "16982    -124.18     40.62                35.0        952.0           178.0   \n",
              "16994    -124.25     40.28                32.0       1430.0           419.0   \n",
              "\n",
              "       population  households  median_income  median_house_value  \n",
              "2           333.0       117.0         1.6509             85700.0  \n",
              "7           375.0       158.0         1.7083             48500.0  \n",
              "17           64.0        27.0         0.8571             25000.0  \n",
              "19           29.0        15.0         1.2656             27500.0  \n",
              "21          227.0       139.0         0.8964             59200.0  \n",
              "...           ...         ...            ...                 ...  \n",
              "16944       320.0       109.0         4.2054            130600.0  \n",
              "16951       235.0        83.0         1.7500             67500.0  \n",
              "16969       392.0       244.0         0.9570             60000.0  \n",
              "16982       480.0       179.0         3.0536            107000.0  \n",
              "16994       434.0       187.0         1.9417             76100.0  \n",
              "\n",
              "[1605 rows x 9 columns]"
            ],
            "text/html": [
              "\n",
              "  <div id=\"df-d18730e0-33f3-4900-a646-38391987f6ae\">\n",
              "    <div class=\"colab-df-container\">\n",
              "      <div>\n",
              "<style scoped>\n",
              "    .dataframe tbody tr th:only-of-type {\n",
              "        vertical-align: middle;\n",
              "    }\n",
              "\n",
              "    .dataframe tbody tr th {\n",
              "        vertical-align: top;\n",
              "    }\n",
              "\n",
              "    .dataframe thead th {\n",
              "        text-align: right;\n",
              "    }\n",
              "</style>\n",
              "<table border=\"1\" class=\"dataframe\">\n",
              "  <thead>\n",
              "    <tr style=\"text-align: right;\">\n",
              "      <th></th>\n",
              "      <th>longitude</th>\n",
              "      <th>latitude</th>\n",
              "      <th>housing_median_age</th>\n",
              "      <th>total_rooms</th>\n",
              "      <th>total_bedrooms</th>\n",
              "      <th>population</th>\n",
              "      <th>households</th>\n",
              "      <th>median_income</th>\n",
              "      <th>median_house_value</th>\n",
              "    </tr>\n",
              "  </thead>\n",
              "  <tbody>\n",
              "    <tr>\n",
              "      <th>2</th>\n",
              "      <td>-114.56</td>\n",
              "      <td>33.69</td>\n",
              "      <td>17.0</td>\n",
              "      <td>720.0</td>\n",
              "      <td>174.0</td>\n",
              "      <td>333.0</td>\n",
              "      <td>117.0</td>\n",
              "      <td>1.6509</td>\n",
              "      <td>85700.0</td>\n",
              "    </tr>\n",
              "    <tr>\n",
              "      <th>7</th>\n",
              "      <td>-114.59</td>\n",
              "      <td>34.83</td>\n",
              "      <td>41.0</td>\n",
              "      <td>812.0</td>\n",
              "      <td>168.0</td>\n",
              "      <td>375.0</td>\n",
              "      <td>158.0</td>\n",
              "      <td>1.7083</td>\n",
              "      <td>48500.0</td>\n",
              "    </tr>\n",
              "    <tr>\n",
              "      <th>17</th>\n",
              "      <td>-114.65</td>\n",
              "      <td>32.79</td>\n",
              "      <td>21.0</td>\n",
              "      <td>44.0</td>\n",
              "      <td>33.0</td>\n",
              "      <td>64.0</td>\n",
              "      <td>27.0</td>\n",
              "      <td>0.8571</td>\n",
              "      <td>25000.0</td>\n",
              "    </tr>\n",
              "    <tr>\n",
              "      <th>19</th>\n",
              "      <td>-114.67</td>\n",
              "      <td>33.92</td>\n",
              "      <td>17.0</td>\n",
              "      <td>97.0</td>\n",
              "      <td>24.0</td>\n",
              "      <td>29.0</td>\n",
              "      <td>15.0</td>\n",
              "      <td>1.2656</td>\n",
              "      <td>27500.0</td>\n",
              "    </tr>\n",
              "    <tr>\n",
              "      <th>21</th>\n",
              "      <td>-114.73</td>\n",
              "      <td>33.43</td>\n",
              "      <td>24.0</td>\n",
              "      <td>796.0</td>\n",
              "      <td>243.0</td>\n",
              "      <td>227.0</td>\n",
              "      <td>139.0</td>\n",
              "      <td>0.8964</td>\n",
              "      <td>59200.0</td>\n",
              "    </tr>\n",
              "    <tr>\n",
              "      <th>...</th>\n",
              "      <td>...</td>\n",
              "      <td>...</td>\n",
              "      <td>...</td>\n",
              "      <td>...</td>\n",
              "      <td>...</td>\n",
              "      <td>...</td>\n",
              "      <td>...</td>\n",
              "      <td>...</td>\n",
              "      <td>...</td>\n",
              "    </tr>\n",
              "    <tr>\n",
              "      <th>16944</th>\n",
              "      <td>-124.14</td>\n",
              "      <td>40.67</td>\n",
              "      <td>23.0</td>\n",
              "      <td>580.0</td>\n",
              "      <td>117.0</td>\n",
              "      <td>320.0</td>\n",
              "      <td>109.0</td>\n",
              "      <td>4.2054</td>\n",
              "      <td>130600.0</td>\n",
              "    </tr>\n",
              "    <tr>\n",
              "      <th>16951</th>\n",
              "      <td>-124.15</td>\n",
              "      <td>40.81</td>\n",
              "      <td>50.0</td>\n",
              "      <td>340.0</td>\n",
              "      <td>74.0</td>\n",
              "      <td>235.0</td>\n",
              "      <td>83.0</td>\n",
              "      <td>1.7500</td>\n",
              "      <td>67500.0</td>\n",
              "    </tr>\n",
              "    <tr>\n",
              "      <th>16969</th>\n",
              "      <td>-124.17</td>\n",
              "      <td>40.80</td>\n",
              "      <td>52.0</td>\n",
              "      <td>661.0</td>\n",
              "      <td>316.0</td>\n",
              "      <td>392.0</td>\n",
              "      <td>244.0</td>\n",
              "      <td>0.9570</td>\n",
              "      <td>60000.0</td>\n",
              "    </tr>\n",
              "    <tr>\n",
              "      <th>16982</th>\n",
              "      <td>-124.18</td>\n",
              "      <td>40.62</td>\n",
              "      <td>35.0</td>\n",
              "      <td>952.0</td>\n",
              "      <td>178.0</td>\n",
              "      <td>480.0</td>\n",
              "      <td>179.0</td>\n",
              "      <td>3.0536</td>\n",
              "      <td>107000.0</td>\n",
              "    </tr>\n",
              "    <tr>\n",
              "      <th>16994</th>\n",
              "      <td>-124.25</td>\n",
              "      <td>40.28</td>\n",
              "      <td>32.0</td>\n",
              "      <td>1430.0</td>\n",
              "      <td>419.0</td>\n",
              "      <td>434.0</td>\n",
              "      <td>187.0</td>\n",
              "      <td>1.9417</td>\n",
              "      <td>76100.0</td>\n",
              "    </tr>\n",
              "  </tbody>\n",
              "</table>\n",
              "<p>1605 rows × 9 columns</p>\n",
              "</div>\n",
              "      <button class=\"colab-df-convert\" onclick=\"convertToInteractive('df-d18730e0-33f3-4900-a646-38391987f6ae')\"\n",
              "              title=\"Convert this dataframe to an interactive table.\"\n",
              "              style=\"display:none;\">\n",
              "        \n",
              "  <svg xmlns=\"http://www.w3.org/2000/svg\" height=\"24px\"viewBox=\"0 0 24 24\"\n",
              "       width=\"24px\">\n",
              "    <path d=\"M0 0h24v24H0V0z\" fill=\"none\"/>\n",
              "    <path d=\"M18.56 5.44l.94 2.06.94-2.06 2.06-.94-2.06-.94-.94-2.06-.94 2.06-2.06.94zm-11 1L8.5 8.5l.94-2.06 2.06-.94-2.06-.94L8.5 2.5l-.94 2.06-2.06.94zm10 10l.94 2.06.94-2.06 2.06-.94-2.06-.94-.94-2.06-.94 2.06-2.06.94z\"/><path d=\"M17.41 7.96l-1.37-1.37c-.4-.4-.92-.59-1.43-.59-.52 0-1.04.2-1.43.59L10.3 9.45l-7.72 7.72c-.78.78-.78 2.05 0 2.83L4 21.41c.39.39.9.59 1.41.59.51 0 1.02-.2 1.41-.59l7.78-7.78 2.81-2.81c.8-.78.8-2.07 0-2.86zM5.41 20L4 18.59l7.72-7.72 1.47 1.35L5.41 20z\"/>\n",
              "  </svg>\n",
              "      </button>\n",
              "      \n",
              "  <style>\n",
              "    .colab-df-container {\n",
              "      display:flex;\n",
              "      flex-wrap:wrap;\n",
              "      gap: 12px;\n",
              "    }\n",
              "\n",
              "    .colab-df-convert {\n",
              "      background-color: #E8F0FE;\n",
              "      border: none;\n",
              "      border-radius: 50%;\n",
              "      cursor: pointer;\n",
              "      display: none;\n",
              "      fill: #1967D2;\n",
              "      height: 32px;\n",
              "      padding: 0 0 0 0;\n",
              "      width: 32px;\n",
              "    }\n",
              "\n",
              "    .colab-df-convert:hover {\n",
              "      background-color: #E2EBFA;\n",
              "      box-shadow: 0px 1px 2px rgba(60, 64, 67, 0.3), 0px 1px 3px 1px rgba(60, 64, 67, 0.15);\n",
              "      fill: #174EA6;\n",
              "    }\n",
              "\n",
              "    [theme=dark] .colab-df-convert {\n",
              "      background-color: #3B4455;\n",
              "      fill: #D2E3FC;\n",
              "    }\n",
              "\n",
              "    [theme=dark] .colab-df-convert:hover {\n",
              "      background-color: #434B5C;\n",
              "      box-shadow: 0px 1px 3px 1px rgba(0, 0, 0, 0.15);\n",
              "      filter: drop-shadow(0px 1px 2px rgba(0, 0, 0, 0.3));\n",
              "      fill: #FFFFFF;\n",
              "    }\n",
              "  </style>\n",
              "\n",
              "      <script>\n",
              "        const buttonEl =\n",
              "          document.querySelector('#df-d18730e0-33f3-4900-a646-38391987f6ae button.colab-df-convert');\n",
              "        buttonEl.style.display =\n",
              "          google.colab.kernel.accessAllowed ? 'block' : 'none';\n",
              "\n",
              "        async function convertToInteractive(key) {\n",
              "          const element = document.querySelector('#df-d18730e0-33f3-4900-a646-38391987f6ae');\n",
              "          const dataTable =\n",
              "            await google.colab.kernel.invokeFunction('convertToInteractive',\n",
              "                                                     [key], {});\n",
              "          if (!dataTable) return;\n",
              "\n",
              "          const docLinkHtml = 'Like what you see? Visit the ' +\n",
              "            '<a target=\"_blank\" href=https://colab.research.google.com/notebooks/data_table.ipynb>data table notebook</a>'\n",
              "            + ' to learn more about interactive tables.';\n",
              "          element.innerHTML = '';\n",
              "          dataTable['output_type'] = 'display_data';\n",
              "          await google.colab.output.renderOutput(dataTable, element);\n",
              "          const docLink = document.createElement('div');\n",
              "          docLink.innerHTML = docLinkHtml;\n",
              "          element.appendChild(docLink);\n",
              "        }\n",
              "      </script>\n",
              "    </div>\n",
              "  </div>\n",
              "  "
            ]
          },
          "metadata": {},
          "execution_count": 5
        }
      ]
    },
    {
      "cell_type": "code",
      "source": [
        "df[(df['population'] <=500) ] ['median_house_value']"
      ],
      "metadata": {
        "colab": {
          "base_uri": "https://localhost:8080/"
        },
        "id": "fJePKisJy-xn",
        "outputId": "aec0f6c4-4af0-449a-9290-101db866b9f3"
      },
      "execution_count": 6,
      "outputs": [
        {
          "output_type": "execute_result",
          "data": {
            "text/plain": [
              "2         85700.0\n",
              "7         48500.0\n",
              "17        25000.0\n",
              "19        27500.0\n",
              "21        59200.0\n",
              "           ...   \n",
              "16944    130600.0\n",
              "16951     67500.0\n",
              "16969     60000.0\n",
              "16982    107000.0\n",
              "16994     76100.0\n",
              "Name: median_house_value, Length: 1605, dtype: float64"
            ]
          },
          "metadata": {},
          "execution_count": 6
        }
      ]
    },
    {
      "cell_type": "code",
      "source": [
        "df.query('population < = 500') ['median_house_value'].mean()"
      ],
      "metadata": {
        "colab": {
          "base_uri": "https://localhost:8080/"
        },
        "id": "0pbwwm0uzHtq",
        "outputId": "09ea4a6a-18e4-4b3d-9856-98fb007c1b40"
      },
      "execution_count": 7,
      "outputs": [
        {
          "output_type": "execute_result",
          "data": {
            "text/plain": [
              "206799.95140186916"
            ]
          },
          "metadata": {},
          "execution_count": 7
        }
      ]
    },
    {
      "cell_type": "code",
      "source": [
        "a=df.query('population < = 500') ['median_house_value'].mean()"
      ],
      "metadata": {
        "id": "6Y6-jHc5zNZ9"
      },
      "execution_count": 8,
      "outputs": []
    },
    {
      "cell_type": "code",
      "source": [
        "print(round(a))"
      ],
      "metadata": {
        "colab": {
          "base_uri": "https://localhost:8080/"
        },
        "id": "b4UZmKadzQRT",
        "outputId": "c13f0434-8164-4ffc-db06-872ae7cef2be"
      },
      "execution_count": 9,
      "outputs": [
        {
          "output_type": "stream",
          "name": "stdout",
          "text": [
            "206800\n"
          ]
        }
      ]
    }
  ]
}
